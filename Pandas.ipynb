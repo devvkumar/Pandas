{
 "cells": [
  {
   "cell_type": "markdown",
   "id": "1a1050b2",
   "metadata": {},
   "source": [
    "# Pandas"
   ]
  },
  {
   "cell_type": "markdown",
   "id": "b3c89f36",
   "metadata": {},
   "source": [
    "## Dataframe"
   ]
  },
  {
   "cell_type": "markdown",
   "id": "8b84dd85",
   "metadata": {},
   "source": [
    "### The pandas Library is specially used for handling data of different dimensions. Series is a one dimensions labelled data, and \"dataframe\" is a two dimensional labelled data holding any data type."
   ]
  },
  {
   "cell_type": "markdown",
   "id": "c0792e78",
   "metadata": {},
   "source": [
    "### Creating series using Series() funtion of pandas library"
   ]
  },
  {
   "cell_type": "markdown",
   "id": "930ab0ad",
   "metadata": {},
   "source": [
    "## Creating Dataframe"
   ]
  },
  {
   "cell_type": "markdown",
   "id": "121abb60",
   "metadata": {},
   "source": [
    "### Syntax :- Dataframe(DATA , Columns = list of columns names)"
   ]
  },
  {
   "cell_type": "code",
   "execution_count": 4,
   "id": "dbf29735",
   "metadata": {},
   "outputs": [
    {
     "name": "stdout",
     "output_type": "stream",
     "text": [
      "pen      100\n",
      "shirt    200\n",
      "book     300\n",
      "mouse    400\n",
      "dtype: int64\n"
     ]
    }
   ],
   "source": [
    "import pandas as pd\n",
    "pricelist=[100,200,300,400]\n",
    "productseries = pd.Series(pricelist , index =['pen', 'shirt','book','mouse'])\n",
    "print(productseries)"
   ]
  },
  {
   "cell_type": "markdown",
   "id": "b994000d",
   "metadata": {},
   "source": [
    "## Adding Row and Column to the Dataframe"
   ]
  },
  {
   "cell_type": "markdown",
   "id": "b3d82222",
   "metadata": {},
   "source": [
    "### We can add rows to an existing dataframe from a new dataframe using append() function. It also possible to add a new column to the dataframe by writing the name of the column in square brackets along with the name of the dataframe and assignment a list of item to it."
   ]
  },
  {
   "cell_type": "code",
   "execution_count": 56,
   "id": "6ea850d4",
   "metadata": {},
   "outputs": [
    {
     "name": "stdout",
     "output_type": "stream",
     "text": [
      "(2, 4)\n",
      "   Pen  Shirt  Book  Mouse\n",
      "0   12     13    14     15\n",
      "1    5      6     7      8\n",
      "    Pen  Shirt  Book  Mouse      0      1      2      3  Mobile  Laptop\n",
      "0  12.0   13.0  14.0   15.0    NaN    NaN    NaN    NaN   15000   35000\n",
      "1   5.0    6.0   7.0    8.0    NaN    NaN    NaN    NaN       2       3\n",
      "0   NaN    NaN   NaN    NaN  100.0  200.0  300.0  400.0      30      10\n",
      "1   NaN    NaN   NaN    NaN    4.0    2.0    5.0    6.0      40      15\n",
      "(4, 10)\n",
      "40\n"
     ]
    }
   ],
   "source": [
    "productdf = pd.DataFrame([[100,200,300,400],[4,2,5,6]])\n",
    "columns=['Pen', 'Shirt' , 'Book' , 'Mouse']\n",
    "print(productdf.shape)\n",
    "\n",
    "productdf2 = pd.DataFrame([[12,13,14,15],[5,6,7,8]], columns = ['Pen', 'Shirt' , 'Book' , 'Mouse'])\n",
    "print(productdf2)\n",
    "productdf.shape\n",
    "productdf3 = pd.concat([productdf2 , productdf])\n",
    "# print(productdf3)\n",
    "productdf3[\"Mobile\"] = [15000,2,30,40]\n",
    "productdf3[\"Laptop\"] = [35000,3,10,15]\n",
    "\n",
    "print(productdf3)\n",
    "print(productdf3.shape)\n",
    "print(productdf3.size)\n",
    "\n",
    "\n",
    "\n"
   ]
  },
  {
   "cell_type": "markdown",
   "id": "dc90f7f9",
   "metadata": {},
   "source": [
    "## Delete Rows and Columns from the Dataframe"
   ]
  },
  {
   "cell_type": "markdown",
   "id": "e87862d9",
   "metadata": {},
   "source": [
    "### Multiple columns from the dataframe using drop() function. columns which need to be delete the dataframe are specified by the name of the columns as value of the \"columns\" argument in drop()"
   ]
  },
  {
   "cell_type": "code",
   "execution_count": 62,
   "id": "55842568",
   "metadata": {},
   "outputs": [
    {
     "name": "stdout",
     "output_type": "stream",
     "text": [
      "   Book  Mouse      0      1      2      3  Mobile  Laptop\n",
      "0  14.0   15.0    NaN    NaN    NaN    NaN   15000   35000\n",
      "1   7.0    8.0    NaN    NaN    NaN    NaN       2       3\n",
      "0   NaN    NaN  100.0  200.0  300.0  400.0      30      10\n",
      "1   NaN    NaN    4.0    2.0    5.0    6.0      40      15\n"
     ]
    }
   ],
   "source": [
    "productdf3 = productdf3.drop(columns = [\"Pen\", \"Shirt\"])\n",
    "print(productdf3)\n"
   ]
  },
  {
   "cell_type": "markdown",
   "id": "9ce60c23",
   "metadata": {},
   "source": [
    "## Import Data"
   ]
  },
  {
   "cell_type": "markdown",
   "id": "575d8ed4",
   "metadata": {},
   "source": [
    "### The Pandas Library provides many function to import data from files of different types of software and stores in a dataframe. The function \n",
    "#### 1. read_csv() helps to read a \"csv\" file; \n",
    "#### 2. read_html() helps to read a \"HTML\" file;  \n",
    "#### 3. read_json() helps to read a \"json\" file;  \n",
    "#### 4. read_sql() helps to read a \"sql\" file;  "
   ]
  },
  {
   "cell_type": "code",
   "execution_count": 101,
   "id": "83cbd5ac",
   "metadata": {},
   "outputs": [
    {
     "name": "stdout",
     "output_type": "stream",
     "text": [
      "(583, 11)\n",
      "6413\n",
      "Index(['Age', 'Gender', 'TB', 'DB', 'Alkphos', 'Sgpt', 'TP', 'ALB', 'AG',\n",
      "       'Liver', 'Patient'],\n",
      "      dtype='object')\n",
      "Index(['Age', 'Gender', 'TB', 'DB', 'Alkphos', 'Sgpt', 'TP', 'ALB', 'AG',\n",
      "       'Liver', 'Patient'],\n",
      "      dtype='object')\n"
     ]
    }
   ],
   "source": [
    "import pandas as pd\n",
    "\n",
    "liver = pd.read_csv(\"Indian_Liver_Patient_Dataset_(ILPD).csv\")\n",
    "print(liver.shape)\n",
    "print(liver.size)\n",
    "print(liver.keys())\n",
    "print(liver.columns)"
   ]
  },
  {
   "cell_type": "markdown",
   "id": "784aedfb",
   "metadata": {},
   "source": [
    "# Functions of Dataframe"
   ]
  },
  {
   "cell_type": "markdown",
   "id": "38276af6",
   "metadata": {},
   "source": [
    "## Basic Information Functions"
   ]
  },
  {
   "cell_type": "markdown",
   "id": "b7f264a3",
   "metadata": {},
   "source": [
    "### Display the information of the dataset using info() function"
   ]
  },
  {
   "cell_type": "code",
   "execution_count": 102,
   "id": "2a3077f9",
   "metadata": {},
   "outputs": [
    {
     "name": "stdout",
     "output_type": "stream",
     "text": [
      "<class 'pandas.core.frame.DataFrame'>\n",
      "RangeIndex: 583 entries, 0 to 582\n",
      "Data columns (total 11 columns):\n",
      " #   Column   Non-Null Count  Dtype  \n",
      "---  ------   --------------  -----  \n",
      " 0   Age      583 non-null    int64  \n",
      " 1   Gender   583 non-null    object \n",
      " 2   TB       583 non-null    float64\n",
      " 3   DB       583 non-null    float64\n",
      " 4   Alkphos  583 non-null    int64  \n",
      " 5   Sgpt     583 non-null    int64  \n",
      " 6   TP       583 non-null    int64  \n",
      " 7   ALB      583 non-null    float64\n",
      " 8   AG       583 non-null    float64\n",
      " 9   Liver    579 non-null    float64\n",
      " 10  Patient  583 non-null    int64  \n",
      "dtypes: float64(5), int64(5), object(1)\n",
      "memory usage: 50.2+ KB\n",
      "None\n"
     ]
    }
   ],
   "source": [
    "print(liver.info())"
   ]
  },
  {
   "cell_type": "markdown",
   "id": "d47929f3",
   "metadata": {},
   "source": [
    "### Display the complete dataset using describe"
   ]
  },
  {
   "cell_type": "code",
   "execution_count": 103,
   "id": "7d567327",
   "metadata": {},
   "outputs": [
    {
     "name": "stdout",
     "output_type": "stream",
     "text": [
      "<bound method NDFrame.describe of      Age  Gender    TB   DB  Alkphos  Sgpt   TP  ALB   AG  Liver  Patient\n",
      "0     65  Female   0.7  0.1      187    16   18  6.8  3.3   0.90        1\n",
      "1     62    Male  10.9  5.5      699    64  100  7.5  3.2   0.74        1\n",
      "2     62    Male   7.3  4.1      490    60   68  7.0  3.3   0.89        1\n",
      "3     58    Male   1.0  0.4      182    14   20  6.8  3.4   1.00        1\n",
      "4     72    Male   3.9  2.0      195    27   59  7.3  2.4   0.40        1\n",
      "..   ...     ...   ...  ...      ...   ...  ...  ...  ...    ...      ...\n",
      "578   60    Male   0.5  0.1      500    20   34  5.9  1.6   0.37        2\n",
      "579   40    Male   0.6  0.1       98    35   31  6.0  3.2   1.10        1\n",
      "580   52    Male   0.8  0.2      245    48   49  6.4  3.2   1.00        1\n",
      "581   31    Male   1.3  0.5      184    29   32  6.8  3.4   1.00        1\n",
      "582   38    Male   1.0  0.3      216    21   24  7.3  4.4   1.50        2\n",
      "\n",
      "[583 rows x 11 columns]>\n"
     ]
    }
   ],
   "source": [
    "print(liver.describe)"
   ]
  },
  {
   "cell_type": "markdown",
   "id": "9019c081",
   "metadata": {},
   "source": [
    "### Display the descriptive statistical values of columns using describe()"
   ]
  },
  {
   "cell_type": "code",
   "execution_count": 104,
   "id": "95f6763b",
   "metadata": {},
   "outputs": [
    {
     "name": "stdout",
     "output_type": "stream",
     "text": [
      "              Age          TB          DB      Alkphos         Sgpt  \\\n",
      "count  583.000000  583.000000  583.000000   583.000000   583.000000   \n",
      "mean    44.746141    3.298799    1.486106   290.576329    80.713551   \n",
      "std     16.189833    6.209522    2.808498   242.937989   182.620356   \n",
      "min      4.000000    0.400000    0.100000    63.000000    10.000000   \n",
      "25%     33.000000    0.800000    0.200000   175.500000    23.000000   \n",
      "50%     45.000000    1.000000    0.300000   208.000000    35.000000   \n",
      "75%     58.000000    2.600000    1.300000   298.000000    60.500000   \n",
      "max     90.000000   75.000000   19.700000  2110.000000  2000.000000   \n",
      "\n",
      "                TP         ALB          AG       Liver     Patient  \n",
      "count   583.000000  583.000000  583.000000  579.000000  583.000000  \n",
      "mean    109.910806    6.483190    3.141852    0.947064    1.286449  \n",
      "std     288.918529    1.085451    0.795519    0.319592    0.452490  \n",
      "min      10.000000    2.700000    0.900000    0.300000    1.000000  \n",
      "25%      25.000000    5.800000    2.600000    0.700000    1.000000  \n",
      "50%      42.000000    6.600000    3.100000    0.930000    1.000000  \n",
      "75%      87.000000    7.200000    3.800000    1.100000    2.000000  \n",
      "max    4929.000000    9.600000    5.500000    2.800000    2.000000  \n"
     ]
    }
   ],
   "source": [
    "print(liver.describe())"
   ]
  },
  {
   "cell_type": "markdown",
   "id": "34116b40",
   "metadata": {},
   "source": [
    "### Display first/last record from Dataset using hear() and tail() function"
   ]
  },
  {
   "cell_type": "code",
   "execution_count": 105,
   "id": "7c995970",
   "metadata": {},
   "outputs": [
    {
     "name": "stdout",
     "output_type": "stream",
     "text": [
      "   Age  Gender    TB   DB  Alkphos  Sgpt   TP  ALB   AG  Liver  Patient\n",
      "0   65  Female   0.7  0.1      187    16   18  6.8  3.3   0.90        1\n",
      "1   62    Male  10.9  5.5      699    64  100  7.5  3.2   0.74        1\n",
      "2   62    Male   7.3  4.1      490    60   68  7.0  3.3   0.89        1\n",
      "3   58    Male   1.0  0.4      182    14   20  6.8  3.4   1.00        1\n",
      "4   72    Male   3.9  2.0      195    27   59  7.3  2.4   0.40        1\n",
      "--------------------------------------------------------------------\n",
      "     Age Gender   TB   DB  Alkphos  Sgpt  TP  ALB   AG  Liver  Patient\n",
      "578   60   Male  0.5  0.1      500    20  34  5.9  1.6   0.37        2\n",
      "579   40   Male  0.6  0.1       98    35  31  6.0  3.2   1.10        1\n",
      "580   52   Male  0.8  0.2      245    48  49  6.4  3.2   1.00        1\n",
      "581   31   Male  1.3  0.5      184    29  32  6.8  3.4   1.00        1\n",
      "582   38   Male  1.0  0.3      216    21  24  7.3  4.4   1.50        2\n"
     ]
    }
   ],
   "source": [
    "print(liver.head())\n",
    "print(\"--------------------------------------------------------------------\")\n",
    "print(liver.tail())"
   ]
  },
  {
   "cell_type": "markdown",
   "id": "c0338beb",
   "metadata": {},
   "source": [
    "### Display the first three records."
   ]
  },
  {
   "cell_type": "code",
   "execution_count": 106,
   "id": "07280414",
   "metadata": {},
   "outputs": [
    {
     "name": "stdout",
     "output_type": "stream",
     "text": [
      "   Age  Gender    TB   DB  Alkphos  Sgpt   TP  ALB   AG  Liver  Patient\n",
      "0   65  Female   0.7  0.1      187    16   18  6.8  3.3   0.90        1\n",
      "1   62    Male  10.9  5.5      699    64  100  7.5  3.2   0.74        1\n",
      "2   62    Male   7.3  4.1      490    60   68  7.0  3.3   0.89        1\n"
     ]
    }
   ],
   "source": [
    "print(liver.head(3))"
   ]
  },
  {
   "cell_type": "markdown",
   "id": "af53e366",
   "metadata": {},
   "source": [
    "### Display the first three records of 'TB' and 'DB'"
   ]
  },
  {
   "cell_type": "code",
   "execution_count": 108,
   "id": "756b9c8a",
   "metadata": {},
   "outputs": [
    {
     "name": "stdout",
     "output_type": "stream",
     "text": [
      "     TB   DB\n",
      "0   0.7  0.1\n",
      "1  10.9  5.5\n",
      "2   7.3  4.1\n"
     ]
    }
   ],
   "source": [
    "print(liver[['TB','DB']].head(3))"
   ]
  },
  {
   "cell_type": "markdown",
   "id": "a46cbfa4",
   "metadata": {},
   "source": [
    "#### Same as Tail function"
   ]
  },
  {
   "cell_type": "markdown",
   "id": "d2a036c2",
   "metadata": {},
   "source": [
    "### Display all the values of alkphos columns only"
   ]
  },
  {
   "cell_type": "code",
   "execution_count": 110,
   "id": "97d2826a",
   "metadata": {},
   "outputs": [
    {
     "name": "stdout",
     "output_type": "stream",
     "text": [
      "[ 187  699  490  182  195  208  154  202  202  290  210  260  310  214\n",
      "  145  183  342  165  293  293  610  482  542  231  194  289  289  240\n",
      "  128  188  190  156  187  410  410  482  145  374  263  275  168  160\n",
      "  630  415  208  275  150  230  176  206  170  161  253  198  272  272\n",
      "  198  175  367  145  158  158  158  208  259  470  195  215  239  215\n",
      "  186  188  205  171  145  162  518 1620  146  670  915   75  148  258\n",
      "  237  269  320  298  538  238  214  308  298  204  168  282  298  215\n",
      "  265  312  161  243  224  225  170  145  145  158  158  486  188  257\n",
      "  179  272  661 1580 1630  194  280  298  300  290  188  178  177  201\n",
      "  802  248 1896  263  512  237  199  238  178 1110  310  282  282  380\n",
      "  186  159  332  332  189  201  168  392  202  286  180  218  182  178\n",
      "  290  298  462  196  196  282  750 1050  599  180  180  282  332  292\n",
      "  962  950  200  298  750  175  175  198  482 1020  562  386  250  218\n",
      "  170  171  201  298  750  191  614  218  314  257  272  206  209 1124\n",
      "  664  142  169 1420  218  218  145  142  135  163  285  350  220  189\n",
      "  190  219  160  401  180  100  116  159  289  125  147  192  265  175\n",
      "  400  120  173  186  202  290  196  282  157 2110  285  360  300  158\n",
      "  190  196  165  230  205  316  218  290  272  190  202  498  480  680\n",
      "  258  180  152  859  901  335  182  285  245  505  228  185  247  348\n",
      "  195  140  358  110  235  460  380  262  196  180  190  190  209  144\n",
      "  123  192  188  316  300  575  192  155  239  315  250  174  245  191\n",
      "  340  202  234  159  190  195  180  280  430  206  155  195  588  174\n",
      "  165  527  175  574  106  158  195  179  182  198  216  310   63  198\n",
      "  205  302  171  158  358  174  192  211  157  210  258  152  350  182\n",
      "  458  375  405  215  206  650  198  198  195  230  115  216  358  158\n",
      "  145  195  144  621  150  178  256  205  176  146  218  182  215  165\n",
      "  183  176  418  271  182  130  558  135  326  140  145  206  168  202\n",
      "  192  185  331  188  172  159  490  152  105  160  160  102  148  162\n",
      "  149  580  310  140  175  152  208  205  162   92  162  199  198  215\n",
      "  180  719  554  555  215  509  190  208  260  690  862  592  450 1350\n",
      " 1350  163  246  178  240  100  166  170  194 1750  182  236  165  201\n",
      "  194  206  212  157  162  168  198  292  298  152  163  279  181 1550\n",
      "  142  173  282  279 1100  224  159  186  189  192  140  686  215  309\n",
      "  110  130  164  270  137   90  190  165  167  185  197  154  226  310\n",
      "  310  220  196  186  352  282   92  182  103  850  195  276  171  146\n",
      "  193  180  805  265  185  165  189  198  151  349  365  305  127  238\n",
      "  218  219  239  194  450  254  205  320  195  215  230  189  168  215\n",
      "  210  108  224  230  185  137  156  210  268  298  315  214  138  285\n",
      "  162  298  230  466  227  395   97  406  114  198  173  204  350  153\n",
      "  188  380  214  768  172  160  196  232  220  290  180  189  275  390\n",
      "  356  315  388  298  165  143  191  251  200  268  236  215  134  612\n",
      "  515  560  289  190  500   98  245  184  216]\n"
     ]
    }
   ],
   "source": [
    "print(liver['Alkphos'].values)"
   ]
  },
  {
   "cell_type": "markdown",
   "id": "3ae2cfae",
   "metadata": {},
   "source": [
    "### Display the descriptive statistics of 'TB' columns"
   ]
  },
  {
   "cell_type": "code",
   "execution_count": 111,
   "id": "49662b55",
   "metadata": {},
   "outputs": [
    {
     "name": "stdout",
     "output_type": "stream",
     "text": [
      "count    583.000000\n",
      "mean       3.298799\n",
      "std        6.209522\n",
      "min        0.400000\n",
      "25%        0.800000\n",
      "50%        1.000000\n",
      "75%        2.600000\n",
      "max       75.000000\n",
      "Name: TB, dtype: float64\n"
     ]
    }
   ],
   "source": [
    "print(liver['TB'].describe())"
   ]
  },
  {
   "cell_type": "markdown",
   "id": "819f9b5f",
   "metadata": {},
   "source": [
    "### Program to convert dataframe to list using tolist() function"
   ]
  },
  {
   "cell_type": "code",
   "execution_count": 114,
   "id": "cc44b7df",
   "metadata": {},
   "outputs": [
    {
     "name": "stdout",
     "output_type": "stream",
     "text": [
      "[65, 62, 62, 58, 72, 46, 26, 29, 17, 55, 57, 72, 64, 74, 61, 25, 38, 33, 40, 40, 51, 51, 62, 40, 63, 34, 34, 34, 20, 84, 57, 52, 57, 38, 38, 30, 17, 46, 48, 47, 45, 62, 42, 50, 85, 35, 21, 40, 32, 55, 45, 34, 38, 38, 42, 42, 33, 48, 51, 64, 31, 58, 58, 57, 57, 57, 54, 37, 66, 60, 19, 75, 75, 52, 68, 29, 31, 68, 70, 58, 58, 29, 49, 33, 32, 14, 13, 58, 18, 60, 60, 60, 60, 60, 60, 75, 39, 39, 18, 18, 27, 27, 17, 55, 63, 36, 36, 36, 36, 36, 24, 48, 27, 74, 50, 50, 48, 32, 32, 32, 32, 32, 58, 64, 28, 60, 48, 64, 58, 45, 45, 70, 18, 53, 18, 66, 46, 18, 18, 15, 60, 66, 30, 30, 45, 65, 66, 65, 50, 60, 56, 50, 46, 52, 34, 34, 32, 72, 72, 50, 60, 60, 60, 39, 39, 48, 55, 47, 60, 60, 72, 44, 55, 31, 31, 31, 55, 75, 75, 75, 75, 75, 65, 40, 64, 38, 60, 60, 60, 48, 60, 60, 60, 49, 49, 60, 60, 26, 41, 7, 49, 49, 38, 21, 21, 45, 40, 40, 70, 45, 28, 42, 22, 8, 38, 66, 55, 49, 6, 37, 37, 47, 47, 50, 70, 26, 26, 68, 65, 46, 61, 61, 50, 33, 40, 60, 22, 35, 35, 40, 48, 51, 29, 28, 54, 54, 55, 55, 40, 33, 33, 33, 65, 35, 38, 38, 50, 44, 36, 42, 42, 33, 18, 38, 38, 4, 62, 43, 40, 26, 37, 4, 21, 30, 33, 26, 35, 60, 45, 48, 58, 50, 50, 18, 18, 13, 34, 43, 50, 57, 45, 60, 45, 23, 22, 22, 74, 25, 31, 24, 58, 51, 50, 50, 55, 54, 48, 30, 45, 48, 51, 54, 27, 30, 26, 22, 44, 35, 38, 14, 30, 30, 36, 12, 60, 42, 36, 24, 43, 21, 26, 26, 26, 36, 13, 13, 75, 75, 75, 75, 75, 36, 35, 70, 37, 60, 46, 38, 70, 49, 37, 37, 26, 48, 48, 19, 33, 33, 37, 69, 24, 65, 55, 42, 21, 40, 16, 60, 42, 58, 54, 33, 48, 25, 56, 47, 33, 20, 50, 72, 50, 39, 58, 60, 34, 50, 38, 51, 46, 72, 72, 75, 41, 41, 48, 45, 74, 78, 38, 27, 66, 50, 42, 65, 22, 31, 45, 12, 48, 48, 18, 23, 65, 48, 65, 70, 70, 11, 50, 55, 55, 26, 41, 53, 32, 58, 45, 65, 52, 73, 53, 47, 29, 41, 30, 17, 23, 35, 65, 42, 49, 42, 42, 42, 61, 17, 54, 45, 48, 48, 65, 35, 58, 46, 28, 21, 32, 61, 26, 65, 22, 28, 38, 25, 45, 45, 28, 28, 66, 66, 66, 49, 42, 42, 35, 38, 38, 55, 33, 33, 7, 45, 45, 30, 62, 22, 42, 32, 60, 65, 53, 27, 35, 65, 25, 32, 24, 67, 68, 55, 70, 36, 42, 53, 32, 32, 56, 50, 46, 46, 37, 45, 56, 69, 49, 49, 60, 28, 45, 35, 62, 55, 46, 50, 29, 53, 46, 40, 45, 55, 22, 40, 62, 46, 39, 60, 46, 10, 52, 65, 42, 42, 62, 40, 54, 45, 45, 50, 42, 40, 46, 29, 45, 46, 73, 55, 51, 51, 51, 26, 66, 66, 66, 64, 38, 43, 50, 52, 20, 16, 16, 90, 32, 32, 32, 32, 32, 32, 60, 40, 52, 31, 38]\n"
     ]
    }
   ],
   "source": [
    "print(liver['Age'].tolist())"
   ]
  },
  {
   "cell_type": "markdown",
   "id": "251b4d32",
   "metadata": {},
   "source": [
    "## Mathematical and Statistics"
   ]
  },
  {
   "cell_type": "markdown",
   "id": "c3cf76fe",
   "metadata": {},
   "source": [
    "### 1. Mean of age columns using mean() functions "
   ]
  },
  {
   "cell_type": "code",
   "execution_count": 115,
   "id": "43716138",
   "metadata": {},
   "outputs": [
    {
     "name": "stdout",
     "output_type": "stream",
     "text": [
      "44.74614065180103\n"
     ]
    }
   ],
   "source": [
    "print(liver['Age'].mean())"
   ]
  },
  {
   "cell_type": "markdown",
   "id": "cccdc874",
   "metadata": {},
   "source": [
    "### 2. Median of age column using median() function"
   ]
  },
  {
   "cell_type": "code",
   "execution_count": 116,
   "id": "f979371d",
   "metadata": {},
   "outputs": [
    {
     "name": "stdout",
     "output_type": "stream",
     "text": [
      "45.0\n"
     ]
    }
   ],
   "source": [
    "print(liver['Age'].median())"
   ]
  },
  {
   "cell_type": "markdown",
   "id": "8af8a528",
   "metadata": {},
   "source": [
    "### 3. Maximum of age column using max() function"
   ]
  },
  {
   "cell_type": "code",
   "execution_count": 117,
   "id": "3e2096a4",
   "metadata": {},
   "outputs": [
    {
     "name": "stdout",
     "output_type": "stream",
     "text": [
      "90\n"
     ]
    }
   ],
   "source": [
    "print(liver['Age'].max())"
   ]
  },
  {
   "cell_type": "markdown",
   "id": "e6f72a56",
   "metadata": {},
   "source": [
    "### 4. Minimum of age column using min() function"
   ]
  },
  {
   "cell_type": "code",
   "execution_count": 118,
   "id": "96e594d6",
   "metadata": {},
   "outputs": [
    {
     "name": "stdout",
     "output_type": "stream",
     "text": [
      "4\n"
     ]
    }
   ],
   "source": [
    "print(liver['Age'].min())"
   ]
  },
  {
   "cell_type": "markdown",
   "id": "fb180d67",
   "metadata": {},
   "source": [
    "### 5. Sum of age column using sum() function"
   ]
  },
  {
   "cell_type": "code",
   "execution_count": 119,
   "id": "331273bb",
   "metadata": {},
   "outputs": [
    {
     "name": "stdout",
     "output_type": "stream",
     "text": [
      "26087\n"
     ]
    }
   ],
   "source": [
    "print(liver['Age'].sum())"
   ]
  },
  {
   "cell_type": "markdown",
   "id": "8cede1d9",
   "metadata": {},
   "source": [
    "### 6. Product of age column using product() function"
   ]
  },
  {
   "cell_type": "code",
   "execution_count": 120,
   "id": "8ac179a4",
   "metadata": {},
   "outputs": [
    {
     "name": "stdout",
     "output_type": "stream",
     "text": [
      "0\n"
     ]
    }
   ],
   "source": [
    "print(liver['Age'].product())"
   ]
  },
  {
   "cell_type": "markdown",
   "id": "6c680982",
   "metadata": {},
   "source": [
    "### 7. 3 Smallest values of age column using nsmallest() function"
   ]
  },
  {
   "cell_type": "code",
   "execution_count": 124,
   "id": "59c4af73",
   "metadata": {},
   "outputs": [
    {
     "name": "stdout",
     "output_type": "stream",
     "text": [
      "265    4\n",
      "271    4\n",
      "218    6\n",
      "Name: Age, dtype: int64\n"
     ]
    }
   ],
   "source": [
    "print(liver['Age'].nsmallest().head(3))"
   ]
  },
  {
   "cell_type": "markdown",
   "id": "b9ae9b92",
   "metadata": {},
   "source": [
    "### 4 Largest values of age column using nlargest() function"
   ]
  },
  {
   "cell_type": "code",
   "execution_count": 125,
   "id": "9fbba967",
   "metadata": {},
   "outputs": [
    {
     "name": "stdout",
     "output_type": "stream",
     "text": [
      "571    90\n",
      "44     85\n",
      "29     84\n",
      "397    78\n",
      "Name: Age, dtype: int64\n"
     ]
    }
   ],
   "source": [
    "print(liver['Age'].nlargest().head(4))"
   ]
  },
  {
   "cell_type": "markdown",
   "id": "a26020bd",
   "metadata": {},
   "source": [
    "## Sort Function"
   ]
  },
  {
   "cell_type": "markdown",
   "id": "f8754a91",
   "metadata": {},
   "source": [
    "### In Decending Order"
   ]
  },
  {
   "cell_type": "code",
   "execution_count": 131,
   "id": "e2ff404d",
   "metadata": {},
   "outputs": [
    {
     "name": "stdout",
     "output_type": "stream",
     "text": [
      "     Age  Gender   TB   DB  Alkphos  Sgpt   TP  ALB   AG  Liver  Patient\n",
      "571   90    Male  1.1  0.3      215    46  134  6.9  3.0    0.7        1\n",
      "44    85  Female  1.0  0.3      208    17   15  7.0  3.6    1.0        2\n"
     ]
    }
   ],
   "source": [
    "print(liver.sort_values(by = 'Age', ascending = False).head(2))"
   ]
  },
  {
   "cell_type": "code",
   "execution_count": 132,
   "id": "1920fa33",
   "metadata": {},
   "outputs": [
    {
     "name": "stdout",
     "output_type": "stream",
     "text": [
      "     Age Gender   TB   DB  Alkphos  Sgpt   TP  ALB   AG  Liver  Patient\n",
      "265    4   Male  0.9  0.2      348    30   34  8.0  4.0    1.0        2\n",
      "271    4   Male  0.8  0.2      460   152  231  6.5  3.2    0.9        2\n"
     ]
    }
   ],
   "source": [
    "print(liver.sort_values(by = 'Age', ascending = False).tail(2))"
   ]
  },
  {
   "cell_type": "markdown",
   "id": "6fb4e421",
   "metadata": {},
   "source": [
    "### In Ascending Order"
   ]
  },
  {
   "cell_type": "code",
   "execution_count": 134,
   "id": "28c029df",
   "metadata": {},
   "outputs": [
    {
     "name": "stdout",
     "output_type": "stream",
     "text": [
      "     Age Gender   TB   DB  Alkphos  Sgpt   TP  ALB   AG  Liver  Patient\n",
      "271    4   Male  0.8  0.2      460   152  231  6.5  3.2    0.9        2\n",
      "265    4   Male  0.9  0.2      348    30   34  8.0  4.0    1.0        2\n"
     ]
    }
   ],
   "source": [
    "print(liver.sort_values(by = 'Age', ascending = True).head(2))"
   ]
  },
  {
   "cell_type": "code",
   "execution_count": 135,
   "id": "c163195b",
   "metadata": {},
   "outputs": [
    {
     "name": "stdout",
     "output_type": "stream",
     "text": [
      "     Age  Gender   TB   DB  Alkphos  Sgpt   TP  ALB   AG  Liver  Patient\n",
      "44    85  Female  1.0  0.3      208    17   15  7.0  3.6    1.0        2\n",
      "571   90    Male  1.1  0.3      215    46  134  6.9  3.0    0.7        1\n"
     ]
    }
   ],
   "source": [
    "print(liver.sort_values(by = 'Age', ascending = True).tail(2))"
   ]
  },
  {
   "cell_type": "markdown",
   "id": "e6c054e3",
   "metadata": {},
   "source": [
    "## Data Extraction"
   ]
  },
  {
   "cell_type": "markdown",
   "id": "f1d54d48",
   "metadata": {},
   "source": [
    "### Using iloc Indexers"
   ]
  },
  {
   "cell_type": "markdown",
   "id": "60250984",
   "metadata": {},
   "source": [
    "#### These indexer play a major role in the data extraction on the basis of specified row and column. The iloc indexer helps to extra particular rows and column at specified number in the order that they appear in the dataframe."
   ]
  },
  {
   "cell_type": "code",
   "execution_count": 139,
   "id": "80bf82f5",
   "metadata": {},
   "outputs": [
    {
     "name": "stdout",
     "output_type": "stream",
     "text": [
      "1.0\n"
     ]
    }
   ],
   "source": [
    "print(liver.iloc[3,2])"
   ]
  },
  {
   "cell_type": "code",
   "execution_count": 140,
   "id": "172d3204",
   "metadata": {},
   "outputs": [
    {
     "name": "stdout",
     "output_type": "stream",
     "text": [
      "Age          58\n",
      "Gender     Male\n",
      "TB          1.0\n",
      "DB          0.4\n",
      "Alkphos     182\n",
      "Sgpt         14\n",
      "TP           20\n",
      "ALB         6.8\n",
      "AG          3.4\n",
      "Liver       1.0\n",
      "Patient       1\n",
      "Name: 3, dtype: object\n"
     ]
    }
   ],
   "source": [
    "print(liver.iloc[3])"
   ]
  },
  {
   "cell_type": "code",
   "execution_count": 144,
   "id": "fdd4af21",
   "metadata": {},
   "outputs": [
    {
     "name": "stdout",
     "output_type": "stream",
     "text": [
      "  Gender  Alkphos\n",
      "5   Male      208\n",
      "9   Male      290\n"
     ]
    }
   ],
   "source": [
    "print(liver.iloc[[5,9],[1,4]])"
   ]
  },
  {
   "cell_type": "code",
   "execution_count": 146,
   "id": "0cb4825e",
   "metadata": {},
   "outputs": [
    {
     "name": "stdout",
     "output_type": "stream",
     "text": [
      "0    Female\n",
      "1      Male\n",
      "2      Male\n",
      "3      Male\n",
      "Name: Gender, dtype: object\n"
     ]
    }
   ],
   "source": [
    "print(liver.iloc[0:4,1])"
   ]
  },
  {
   "cell_type": "markdown",
   "id": "c2023cbe",
   "metadata": {},
   "source": [
    "## Group by Functionality"
   ]
  },
  {
   "cell_type": "markdown",
   "id": "1fc83b57",
   "metadata": {},
   "source": [
    "### Grouping on basis of \"Liver\" and using min() function for \"DB\""
   ]
  },
  {
   "cell_type": "code",
   "execution_count": 152,
   "id": "efab41b1",
   "metadata": {},
   "outputs": [
    {
     "name": "stdout",
     "output_type": "stream",
     "text": [
      "0.1\n",
      "Liver\n",
      "0.30    0.4\n",
      "0.35    0.5\n",
      "0.37    0.1\n",
      "0.39    1.4\n",
      "0.40    1.0\n",
      "       ... \n",
      "1.80    0.2\n",
      "1.85    0.2\n",
      "1.90    0.2\n",
      "2.50    9.5\n",
      "2.80    6.1\n",
      "Name: DB, Length: 69, dtype: float64\n"
     ]
    }
   ],
   "source": [
    "print(liver['DB'].groupby(liver['Liver']).min())"
   ]
  },
  {
   "cell_type": "markdown",
   "id": "a7903e13",
   "metadata": {},
   "source": [
    "###  Grouping on basis of \"Liver\" and using max() function for \"DB\""
   ]
  },
  {
   "cell_type": "code",
   "execution_count": 154,
   "id": "64b82c82",
   "metadata": {},
   "outputs": [
    {
     "name": "stdout",
     "output_type": "stream",
     "text": [
      "Liver\n",
      "0.30    12.1\n",
      "0.35     0.5\n",
      "0.37     0.1\n",
      "0.39     1.4\n",
      "0.40    11.8\n",
      "        ... \n",
      "1.80     0.3\n",
      "1.85     0.3\n",
      "1.90     0.2\n",
      "2.50    13.7\n",
      "2.80     6.1\n",
      "Name: DB, Length: 69, dtype: float64\n"
     ]
    }
   ],
   "source": [
    "print(liver['DB'].groupby(liver['Liver']).max())"
   ]
  },
  {
   "cell_type": "markdown",
   "id": "88c5acd7",
   "metadata": {},
   "source": [
    "## Creating Charts for Dataframe"
   ]
  },
  {
   "cell_type": "markdown",
   "id": "115651f2",
   "metadata": {},
   "source": [
    "### Pie Chart for \"TB\" labels fo liver of 10 records"
   ]
  },
  {
   "cell_type": "code",
   "execution_count": 183,
   "id": "c3a01a82",
   "metadata": {},
   "outputs": [
    {
     "ename": "TypeError",
     "evalue": "PlotAccessor.pie() takes 1 positional argument but 2 were given",
     "output_type": "error",
     "traceback": [
      "\u001b[1;31m---------------------------------------------------------------------------\u001b[0m",
      "\u001b[1;31mTypeError\u001b[0m                                 Traceback (most recent call last)",
      "Cell \u001b[1;32mIn[183], line 3\u001b[0m\n\u001b[0;32m      1\u001b[0m details \u001b[38;5;241m=\u001b[39m liver\u001b[38;5;241m.\u001b[39miloc[\u001b[38;5;241m0\u001b[39m:\u001b[38;5;241m10\u001b[39m,]\n\u001b[0;32m      2\u001b[0m \u001b[38;5;66;03m# print(details)\u001b[39;00m\n\u001b[1;32m----> 3\u001b[0m \u001b[43mliver\u001b[49m\u001b[38;5;241;43m.\u001b[39;49m\u001b[43mplot\u001b[49m\u001b[38;5;241;43m.\u001b[39;49m\u001b[43mpie\u001b[49m\u001b[43m(\u001b[49m\u001b[38;5;124;43m'\u001b[39;49m\u001b[38;5;124;43mTB\u001b[39;49m\u001b[38;5;124;43m'\u001b[39;49m\u001b[43m \u001b[49m\u001b[43m,\u001b[49m\u001b[43m \u001b[49m\u001b[43mlabels\u001b[49m\u001b[43m \u001b[49m\u001b[38;5;241;43m=\u001b[39;49m\u001b[43m \u001b[49m\u001b[43mdetails\u001b[49m\u001b[43m[\u001b[49m\u001b[38;5;124;43m'\u001b[39;49m\u001b[38;5;124;43mTB\u001b[39;49m\u001b[38;5;124;43m'\u001b[39;49m\u001b[43m]\u001b[49m\u001b[43m)\u001b[49m\n",
      "\u001b[1;31mTypeError\u001b[0m: PlotAccessor.pie() takes 1 positional argument but 2 were given"
     ]
    }
   ],
   "source": [
    "details = liver.iloc[0:10,]\n",
    "# print(details)\n",
    "liver.plot.pie('TB' , labels = details['TB'])"
   ]
  },
  {
   "cell_type": "markdown",
   "id": "993ce203",
   "metadata": {},
   "source": [
    "### Scatter Plot between \"TB\" and \"DB\""
   ]
  },
  {
   "cell_type": "code",
   "execution_count": 179,
   "id": "0db84b13",
   "metadata": {},
   "outputs": [
    {
     "data": {
      "text/plain": [
       "<Axes: xlabel='TB', ylabel='DB'>"
      ]
     },
     "execution_count": 179,
     "metadata": {},
     "output_type": "execute_result"
    },
    {
     "data": {
      "image/png": "[encoded data removed]",
      "text/plain": [
       "<Figure size 640x480 with 1 Axes>"
      ]
     },
     "metadata": {},
     "output_type": "display_data"
    }
   ],
   "source": [
    "liver.plot.scatter('TB','DB')"
   ]
  },
  {
   "cell_type": "markdown",
   "id": "2712b118",
   "metadata": {},
   "source": [
    "### Histogram for \"Alkphos\" for different values of \"Gender\" "
   ]
  },
  {
   "cell_type": "code",
   "execution_count": 178,
   "id": "ed869dfd",
   "metadata": {},
   "outputs": [
    {
     "data": {
      "text/plain": [
       "array([<Axes: title={'center': 'Female'}>,\n",
       "       <Axes: title={'center': 'Male'}>], dtype=object)"
      ]
     },
     "execution_count": 178,
     "metadata": {},
     "output_type": "execute_result"
    },
    {
     "data": {
      "image/png": "[encoded data removed]",
      "text/plain": [
       "<Figure size 640x480 with 2 Axes>"
      ]
     },
     "metadata": {},
     "output_type": "display_data"
    }
   ],
   "source": [
    "liver.hist( column = 'Alkphos', by = \"Gender\")"
   ]
  },
  {
   "cell_type": "markdown",
   "id": "8369c73f",
   "metadata": {},
   "source": [
    "### Boxplot for \"AG\" for different values of \"Liver\""
   ]
  },
  {
   "cell_type": "code",
   "execution_count": 181,
   "id": "27c0a0a1",
   "metadata": {},
   "outputs": [
    {
     "data": {
      "text/plain": [
       "<Axes: title={'center': 'AG'}, xlabel='Liver'>"
      ]
     },
     "execution_count": 181,
     "metadata": {},
     "output_type": "execute_result"
    },
    {
     "data": {
      "image/png": "[encoded data removed]",
      "text/plain": [
       "<Figure size 640x480 with 1 Axes>"
      ]
     },
     "metadata": {},
     "output_type": "display_data"
    }
   ],
   "source": [
    "liver.boxplot(column = \"AG\" , by = \"Liver\")"
   ]
  },
  {
   "cell_type": "markdown",
   "id": "5b274afd",
   "metadata": {},
   "source": [
    "### Using crosstab() for determining observation of two categorical variables."
   ]
  },
  {
   "cell_type": "code",
   "execution_count": 185,
   "id": "d0fbd22a",
   "metadata": {},
   "outputs": [
    {
     "name": "stdout",
     "output_type": "stream",
     "text": [
      "Liver   0.3  0.35  0.37  0.39  0.4  0.45  0.46  0.47  0.48  0.5  ...  1.6  \\\n",
      "Gender                                                           ...        \n",
      "Female    1     0     0     0    4     1     0     1     0    3  ...    1   \n",
      "Male      3     1     1     1   10     0     1     1     1   26  ...    4   \n",
      "All       4     1     1     1   14     1     1     2     1   29  ...    5   \n",
      "\n",
      "Liver   1.66  1.7  1.72  1.8  1.85  1.9  2.5  2.8  All  \n",
      "Gender                                                  \n",
      "Female     0    2     0    3     0    0    0    0  140  \n",
      "Male       1    2     1    0     2    1    2    1  439  \n",
      "All        1    4     1    3     2    1    2    1  579  \n",
      "\n",
      "[3 rows x 70 columns]\n"
     ]
    }
   ],
   "source": [
    "print(pd.crosstab( liver.Gender , liver.Liver , margins = True))"
   ]
  },
  {
   "cell_type": "code",
   "execution_count": 186,
   "id": "2419d3bf",
   "metadata": {},
   "outputs": [
    {
     "data": {
      "text/html": [
       "<div>\n",
       "<style scoped>\n",
       "    .dataframe tbody tr th:only-of-type {\n",
       "        vertical-align: middle;\n",
       "    }\n",
       "\n",
       "    .dataframe tbody tr th {\n",
       "        vertical-align: top;\n",
       "    }\n",
       "\n",
       "    .dataframe thead th {\n",
       "        text-align: right;\n",
       "    }\n",
       "</style>\n",
       "<table border=\"1\" class=\"dataframe\">\n",
       "  <thead>\n",
       "    <tr style=\"text-align: right;\">\n",
       "      <th>Liver</th>\n",
       "      <th>0.3</th>\n",
       "      <th>0.35</th>\n",
       "      <th>0.37</th>\n",
       "      <th>0.39</th>\n",
       "      <th>0.4</th>\n",
       "      <th>0.45</th>\n",
       "      <th>0.46</th>\n",
       "      <th>0.47</th>\n",
       "      <th>0.48</th>\n",
       "      <th>0.5</th>\n",
       "      <th>...</th>\n",
       "      <th>1.6</th>\n",
       "      <th>1.66</th>\n",
       "      <th>1.7</th>\n",
       "      <th>1.72</th>\n",
       "      <th>1.8</th>\n",
       "      <th>1.85</th>\n",
       "      <th>1.9</th>\n",
       "      <th>2.5</th>\n",
       "      <th>2.8</th>\n",
       "      <th>All</th>\n",
       "    </tr>\n",
       "    <tr>\n",
       "      <th>Gender</th>\n",
       "      <th></th>\n",
       "      <th></th>\n",
       "      <th></th>\n",
       "      <th></th>\n",
       "      <th></th>\n",
       "      <th></th>\n",
       "      <th></th>\n",
       "      <th></th>\n",
       "      <th></th>\n",
       "      <th></th>\n",
       "      <th></th>\n",
       "      <th></th>\n",
       "      <th></th>\n",
       "      <th></th>\n",
       "      <th></th>\n",
       "      <th></th>\n",
       "      <th></th>\n",
       "      <th></th>\n",
       "      <th></th>\n",
       "      <th></th>\n",
       "      <th></th>\n",
       "    </tr>\n",
       "  </thead>\n",
       "  <tbody>\n",
       "    <tr>\n",
       "      <th>Female</th>\n",
       "      <td>1</td>\n",
       "      <td>0</td>\n",
       "      <td>0</td>\n",
       "      <td>0</td>\n",
       "      <td>4</td>\n",
       "      <td>1</td>\n",
       "      <td>0</td>\n",
       "      <td>1</td>\n",
       "      <td>0</td>\n",
       "      <td>3</td>\n",
       "      <td>...</td>\n",
       "      <td>1</td>\n",
       "      <td>0</td>\n",
       "      <td>2</td>\n",
       "      <td>0</td>\n",
       "      <td>3</td>\n",
       "      <td>0</td>\n",
       "      <td>0</td>\n",
       "      <td>0</td>\n",
       "      <td>0</td>\n",
       "      <td>140</td>\n",
       "    </tr>\n",
       "    <tr>\n",
       "      <th>Male</th>\n",
       "      <td>3</td>\n",
       "      <td>1</td>\n",
       "      <td>1</td>\n",
       "      <td>1</td>\n",
       "      <td>10</td>\n",
       "      <td>0</td>\n",
       "      <td>1</td>\n",
       "      <td>1</td>\n",
       "      <td>1</td>\n",
       "      <td>26</td>\n",
       "      <td>...</td>\n",
       "      <td>4</td>\n",
       "      <td>1</td>\n",
       "      <td>2</td>\n",
       "      <td>1</td>\n",
       "      <td>0</td>\n",
       "      <td>2</td>\n",
       "      <td>1</td>\n",
       "      <td>2</td>\n",
       "      <td>1</td>\n",
       "      <td>439</td>\n",
       "    </tr>\n",
       "    <tr>\n",
       "      <th>All</th>\n",
       "      <td>4</td>\n",
       "      <td>1</td>\n",
       "      <td>1</td>\n",
       "      <td>1</td>\n",
       "      <td>14</td>\n",
       "      <td>1</td>\n",
       "      <td>1</td>\n",
       "      <td>2</td>\n",
       "      <td>1</td>\n",
       "      <td>29</td>\n",
       "      <td>...</td>\n",
       "      <td>5</td>\n",
       "      <td>1</td>\n",
       "      <td>4</td>\n",
       "      <td>1</td>\n",
       "      <td>3</td>\n",
       "      <td>2</td>\n",
       "      <td>1</td>\n",
       "      <td>2</td>\n",
       "      <td>1</td>\n",
       "      <td>579</td>\n",
       "    </tr>\n",
       "  </tbody>\n",
       "</table>\n",
       "<p>3 rows × 70 columns</p>\n",
       "</div>"
      ],
      "text/plain": [
       "Liver   0.3  0.35  0.37  0.39  0.4  0.45  0.46  0.47  0.48  0.5  ...  1.6  \\\n",
       "Gender                                                           ...        \n",
       "Female    1     0     0     0    4     1     0     1     0    3  ...    1   \n",
       "Male      3     1     1     1   10     0     1     1     1   26  ...    4   \n",
       "All       4     1     1     1   14     1     1     2     1   29  ...    5   \n",
       "\n",
       "Liver   1.66  1.7  1.72  1.8  1.85  1.9  2.5  2.8  All  \n",
       "Gender                                                  \n",
       "Female     0    2     0    3     0    0    0    0  140  \n",
       "Male       1    2     1    0     2    1    2    1  439  \n",
       "All        1    4     1    3     2    1    2    1  579  \n",
       "\n",
       "[3 rows x 70 columns]"
      ]
     },
     "execution_count": 186,
     "metadata": {},
     "output_type": "execute_result"
    }
   ],
   "source": [
    "pd.crosstab( liver.Gender , liver.Liver , margins = True)"
   ]
  },
  {
   "cell_type": "code",
   "execution_count": 196,
   "id": "109d493c",
   "metadata": {},
   "outputs": [
    {
     "data": {
      "text/plain": [
       "<Axes: xlabel='Gender'>"
      ]
     },
     "execution_count": 196,
     "metadata": {},
     "output_type": "execute_result"
    },
    {
     "data": {
      "image/png": "[encoded data removed]",
      "text/plain": [
       "<Figure size 1700x1000 with 1 Axes>"
      ]
     },
     "metadata": {},
     "output_type": "display_data"
    }
   ],
   "source": [
    "pd.crosstab( liver.Gender , liver.Liver , margins = True).plot( kind = 'bar' , figsize = (17,10))"
   ]
  },
  {
   "cell_type": "markdown",
   "id": "9682cd8f",
   "metadata": {},
   "source": [
    "## Missing Values"
   ]
  },
  {
   "cell_type": "markdown",
   "id": "e1e7925d",
   "metadata": {},
   "source": [
    "#### A missing valyues is one whose values is unnknown. Missing values are represented in Python by the NA symbol. NA is a special properties are different from other values."
   ]
  },
  {
   "cell_type": "markdown",
   "id": "d90a20a8",
   "metadata": {},
   "source": [
    "### Use all the Data processing technique in one dataset"
   ]
  },
  {
   "cell_type": "code",
   "execution_count": 206,
   "id": "9a2cd709",
   "metadata": {},
   "outputs": [
    {
     "name": "stdout",
     "output_type": "stream",
     "text": [
      "(367, 12)\n"
     ]
    }
   ],
   "source": [
    "loan = pd.read_csv(\"Loan.csv\")\n",
    "print(loan.shape)"
   ]
  },
  {
   "cell_type": "markdown",
   "id": "5e2fae28",
   "metadata": {},
   "source": [
    "### Determining Missing Values"
   ]
  },
  {
   "cell_type": "markdown",
   "id": "ad188049",
   "metadata": {},
   "source": [
    "#### The function isnull().sum() gives the total number of missing values for each column in the dataset"
   ]
  },
  {
   "cell_type": "code",
   "execution_count": 207,
   "id": "b049c598",
   "metadata": {},
   "outputs": [
    {
     "name": "stdout",
     "output_type": "stream",
     "text": [
      "Loan_ID               0\n",
      "Gender               11\n",
      "Married               0\n",
      "Dependents           10\n",
      "Education             0\n",
      "Self_Employed        23\n",
      "ApplicantIncome       0\n",
      "CoapplicantIncome     0\n",
      "LoanAmount            5\n",
      "Loan_Amount_Term      6\n",
      "Credit_History       29\n",
      "Property_Area         0\n",
      "dtype: int64\n"
     ]
    }
   ],
   "source": [
    "print(loan.isnull().sum())"
   ]
  },
  {
   "cell_type": "markdown",
   "id": "bc1a324c",
   "metadata": {},
   "source": [
    "### Delete Observation Containing Missing Values"
   ]
  },
  {
   "cell_type": "markdown",
   "id": "b72f0204",
   "metadata": {},
   "source": [
    "#### It is possible to delete the observation from the dataset containing missing values in any column directly. The function \"dropna(inplace = True)\" delete the observation that contain the missing values from the dataset and hence reduce the number of observation"
   ]
  },
  {
   "cell_type": "code",
   "execution_count": 208,
   "id": "dfacf970",
   "metadata": {},
   "outputs": [
    {
     "name": "stdout",
     "output_type": "stream",
     "text": [
      "(289, 12)\n"
     ]
    }
   ],
   "source": [
    "#creating a copy of the dataframe\n",
    "newloan = loan.copy()\n",
    "\n",
    "#remove the complete obsertaions contains missing values.\n",
    "newloan.dropna(inplace = True)\n",
    "\n",
    "#print the dimensions after removing missing observation\n",
    "print(newloan.shape)"
   ]
  },
  {
   "cell_type": "markdown",
   "id": "0b288a42",
   "metadata": {},
   "source": [
    "### Missing Value Imputaion"
   ]
  },
  {
   "cell_type": "markdown",
   "id": "6b44ab62",
   "metadata": {},
   "source": [
    "#### imputation is method to fill in the missing values with estimated ones. It is very important to imoputate the missing data before analysing because the data analysis function does not work effectively if missing values exist in the dataset. The function fillna( values , inplace = True ) fills the missing values (NA) with the value written as an argument and thus helps in missing data imputation."
   ]
  },
  {
   "cell_type": "code",
   "execution_count": 217,
   "id": "729f5d37",
   "metadata": {},
   "outputs": [
    {
     "name": "stdout",
     "output_type": "stream",
     "text": [
      "49280.0\n",
      "5\n",
      "None\n",
      "49280.0\n",
      "0\n"
     ]
    }
   ],
   "source": [
    "newloan2 = loan.copy()\n",
    "\n",
    "#print the loan amount before the data imputation\n",
    "print(newloan2[\"LoanAmount\"].sum())\n",
    "print(newloan2[\"LoanAmount\"].isnull().sum())\n",
    "\n",
    "\n",
    "#replacing the missing values of continous variable \"LoanAmount\" is 0\n",
    "print(newloan2[\"LoanAmount\"].fillna( 0 , inplace = True))\n",
    "print(newloan2[\"LoanAmount\"].sum())\n",
    "print(newloan2[\"LoanAmount\"].isnull().sum())"
   ]
  },
  {
   "cell_type": "markdown",
   "id": "723b6af9",
   "metadata": {},
   "source": [
    "# Thank You"
   ]
  }
 ],
 "metadata": {
  "kernelspec": {
   "display_name": "Python 3 (ipykernel)",
   "language": "python",
   "name": "python3"
  },
  "language_info": {
   "codemirror_mode": {
    "name": "ipython",
    "version": 3
   },
   "file_extension": ".py",
   "mimetype": "text/x-python",
   "name": "python",
   "nbconvert_exporter": "python",
   "pygments_lexer": "ipython3",
   "version": "3.10.9"
  }
 },
 "nbformat": 4,
 "nbformat_minor": 5
}
